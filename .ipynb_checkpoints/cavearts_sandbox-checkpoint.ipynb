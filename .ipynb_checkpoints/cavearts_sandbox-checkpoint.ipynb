{
 "cells": [
  {
   "cell_type": "code",
   "execution_count": 1,
   "metadata": {},
   "outputs": [],
   "source": [
    "import pandas as pd"
   ]
  },
  {
   "cell_type": "code",
   "execution_count": 4,
   "metadata": {},
   "outputs": [],
   "source": [
    "input_folder = \"./input/\"\n",
    "\n",
    "data = pd.read_csv(input_folder+'africa-economic-banking-and-systemic-crisis-data.zip', compression='zip')"
   ]
  },
  {
   "cell_type": "code",
   "execution_count": 15,
   "metadata": {
    "scrolled": true
   },
   "outputs": [
    {
     "name": "stdout",
     "output_type": "stream",
     "text": [
      "There are no NaN values in the dataset!\n"
     ]
    }
   ],
   "source": [
    "if not data.isna().any().any():\n",
    "    print(\"There are no NaN values in the dataset!\")"
   ]
  },
  {
   "cell_type": "code",
   "execution_count": 19,
   "metadata": {},
   "outputs": [
    {
     "data": {
      "text/plain": [
       "['case',\n",
       " 'cc3',\n",
       " 'country',\n",
       " 'year',\n",
       " 'systemic_crisis',\n",
       " 'exch_usd',\n",
       " 'domestic_debt_in_default',\n",
       " 'sovereign_external_debt_default',\n",
       " 'gdp_weighted_default',\n",
       " 'inflation_annual_cpi',\n",
       " 'independence',\n",
       " 'currency_crises',\n",
       " 'inflation_crises',\n",
       " 'banking_crisis']"
      ]
     },
     "execution_count": 19,
     "metadata": {},
     "output_type": "execute_result"
    }
   ],
   "source": [
    "data.columns.tolist()"
   ]
  },
  {
   "cell_type": "code",
   "execution_count": 24,
   "metadata": {},
   "outputs": [
    {
     "data": {
      "text/html": [
       "<div>\n",
       "<style scoped>\n",
       "    .dataframe tbody tr th:only-of-type {\n",
       "        vertical-align: middle;\n",
       "    }\n",
       "\n",
       "    .dataframe tbody tr th {\n",
       "        vertical-align: top;\n",
       "    }\n",
       "\n",
       "    .dataframe thead th {\n",
       "        text-align: right;\n",
       "    }\n",
       "</style>\n",
       "<table border=\"1\" class=\"dataframe\">\n",
       "  <thead>\n",
       "    <tr style=\"text-align: right;\">\n",
       "      <th></th>\n",
       "      <th>case</th>\n",
       "      <th>cc3</th>\n",
       "      <th>country</th>\n",
       "      <th>year</th>\n",
       "      <th>systemic_crisis</th>\n",
       "      <th>exch_usd</th>\n",
       "      <th>domestic_debt_in_default</th>\n",
       "      <th>sovereign_external_debt_default</th>\n",
       "      <th>gdp_weighted_default</th>\n",
       "      <th>inflation_annual_cpi</th>\n",
       "      <th>independence</th>\n",
       "      <th>currency_crises</th>\n",
       "      <th>inflation_crises</th>\n",
       "      <th>banking_crisis</th>\n",
       "    </tr>\n",
       "  </thead>\n",
       "  <tbody>\n",
       "    <tr>\n",
       "      <td>188</td>\n",
       "      <td>10</td>\n",
       "      <td>CAF</td>\n",
       "      <td>Central African Republic</td>\n",
       "      <td>1983</td>\n",
       "      <td>0</td>\n",
       "      <td>4.173747e+02</td>\n",
       "      <td>0</td>\n",
       "      <td>1</td>\n",
       "      <td>0.0</td>\n",
       "      <td>14.558000</td>\n",
       "      <td>1</td>\n",
       "      <td>0</td>\n",
       "      <td>0</td>\n",
       "      <td>no_crisis</td>\n",
       "    </tr>\n",
       "    <tr>\n",
       "      <td>645</td>\n",
       "      <td>40</td>\n",
       "      <td>MAR</td>\n",
       "      <td>Morocco</td>\n",
       "      <td>2012</td>\n",
       "      <td>0</td>\n",
       "      <td>8.433500e+00</td>\n",
       "      <td>0</td>\n",
       "      <td>0</td>\n",
       "      <td>0.0</td>\n",
       "      <td>1.287000</td>\n",
       "      <td>1</td>\n",
       "      <td>0</td>\n",
       "      <td>0</td>\n",
       "      <td>no_crisis</td>\n",
       "    </tr>\n",
       "    <tr>\n",
       "      <td>996</td>\n",
       "      <td>70</td>\n",
       "      <td>ZWE</td>\n",
       "      <td>Zimbabwe</td>\n",
       "      <td>1951</td>\n",
       "      <td>0</td>\n",
       "      <td>7.140000e-27</td>\n",
       "      <td>0</td>\n",
       "      <td>0</td>\n",
       "      <td>0.0</td>\n",
       "      <td>6.964286</td>\n",
       "      <td>0</td>\n",
       "      <td>0</td>\n",
       "      <td>0</td>\n",
       "      <td>no_crisis</td>\n",
       "    </tr>\n",
       "  </tbody>\n",
       "</table>\n",
       "</div>"
      ],
      "text/plain": [
       "     case  cc3                   country  year  systemic_crisis      exch_usd  \\\n",
       "188    10  CAF  Central African Republic  1983                0  4.173747e+02   \n",
       "645    40  MAR                   Morocco  2012                0  8.433500e+00   \n",
       "996    70  ZWE                  Zimbabwe  1951                0  7.140000e-27   \n",
       "\n",
       "     domestic_debt_in_default  sovereign_external_debt_default  \\\n",
       "188                         0                                1   \n",
       "645                         0                                0   \n",
       "996                         0                                0   \n",
       "\n",
       "     gdp_weighted_default  inflation_annual_cpi  independence  \\\n",
       "188                   0.0             14.558000             1   \n",
       "645                   0.0              1.287000             1   \n",
       "996                   0.0              6.964286             0   \n",
       "\n",
       "     currency_crises  inflation_crises banking_crisis  \n",
       "188                0                 0      no_crisis  \n",
       "645                0                 0      no_crisis  \n",
       "996                0                 0      no_crisis  "
      ]
     },
     "execution_count": 24,
     "metadata": {},
     "output_type": "execute_result"
    }
   ],
   "source": [
    "data.sample(3)"
   ]
  }
 ],
 "metadata": {
  "kernelspec": {
   "display_name": "Python 3",
   "language": "python",
   "name": "python3"
  },
  "language_info": {
   "codemirror_mode": {
    "name": "ipython",
    "version": 3
   },
   "file_extension": ".py",
   "mimetype": "text/x-python",
   "name": "python",
   "nbconvert_exporter": "python",
   "pygments_lexer": "ipython3",
   "version": "3.7.4"
  }
 },
 "nbformat": 4,
 "nbformat_minor": 2
}
